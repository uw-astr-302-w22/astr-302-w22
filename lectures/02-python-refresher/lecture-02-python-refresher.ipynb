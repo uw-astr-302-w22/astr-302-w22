{
 "cells": [
  {
   "cell_type": "markdown",
   "metadata": {
    "slideshow": {
     "slide_type": "subslide"
    }
   },
   "source": [
    "How to turn this notebook into slides? Run:\n",
    "```\n",
    "$ ipython nbconvert --to slides lecture.ipynb  --post serve\n",
    "```\n",
    "OR (better), install the RISE Jupyter extension:\n",
    "```\n",
    "conda install -c damianavila82 rise\n",
    "```\n",
    "and hit the 'Slideshow' toolbar button."
   ]
  },
  {
   "cell_type": "markdown",
   "metadata": {
    "slideshow": {
     "slide_type": "skip"
    }
   },
   "source": [
    "This notebook uses the [python-markdown](http://jupyter-contrib-nbextensions.readthedocs.io/en/latest/nbextensions/python-markdown/readme.html) extension, allowing it to run code inline with Markdown text.\n",
    "\n",
    "To install this extension, and the [configurator GUI](https://github.com/Jupyter-contrib/jupyter_nbextensions_configurator), while Jupyter is ***not*** running run:\n",
    "```bash\n",
    "conda install -c defaults -c conda-forge jupyter_contrib_nbextensions\n",
    "conda install -c defaults -c conda-forge jupyter_nbextensions_configurator\n",
    "```\n",
    "and then enable python-markdown in the `Nbextensions` tab that will show up next time you start Jupyter."
   ]
  },
  {
   "cell_type": "markdown",
   "metadata": {
    "slideshow": {
     "slide_type": "skip"
    }
   },
   "source": [
    "To have the markup in all cells show up in this notebook, you need to mark it as 'Trusted'. The notebook will be marked as trusted once you re-evaluate all cells."
   ]
  },
  {
   "cell_type": "markdown",
   "metadata": {
    "slideshow": {
     "slide_type": "skip"
    }
   },
   "source": [
    "Some helper functions to make it easier to show code listings."
   ]
  },
  {
   "cell_type": "code",
   "execution_count": 1,
   "metadata": {
    "slideshow": {
     "slide_type": "skip"
    }
   },
   "outputs": [],
   "source": [
    "def show_code_listing(fn):\n",
    "    from IPython.display import display, Markdown\n",
    "    return Markdown( '```python\\n{}\\n```'.format(open(fn).read()))\n",
    "\n",
    "def execute_and_show(cmdline):\n",
    "    from IPython.display import display, Markdown\n",
    "    res = ! $cmdline\n",
    "    res = '\\n'.join(['    ' + line for line in res])\n",
    "    print('```bash\\n    ${}\\n{}\\n```'.format(cmdline, res))"
   ]
  },
  {
   "cell_type": "markdown",
   "metadata": {
    "slideshow": {
     "slide_type": "slide"
    }
   },
   "source": [
    "# A Walk Through Python\n",
    "\n",
    "In this lecture we will work through a series of hands-on exercizes to (re-)familiarize ourselves with Python.\n",
    "\n",
    "We'll learn by doing:\n",
    "\n",
    "0. Read up on the general topic __in advance__ of the class, so that in class we can:\n",
    "1. Define a problem needing a solution.\n",
    "2. Write a short Python program that solves it.\n",
    "3. Discuss the result.\n",
    "\n",
    "We'll divide into small teams, and then each team will work on a solution."
   ]
  },
  {
   "cell_type": "markdown",
   "metadata": {
    "slideshow": {
     "slide_type": "slide"
    }
   },
   "source": [
    "## A Pragmatic Approach to Programming\n",
    "\n",
    "I prefer a _pragmatic_ approach to solving programming problems (more accurately: how to solve _research_ problems by programming). Your first task is not to re-invent the wheel -- seek out existing solutions to your problem, and adopt them as much as you can. The literature is your friend.\n",
    "\n",
    "Some \"what should I do in this situation\" examples:\n",
    "\n",
    "* \"Hmm, I'm not familiar with that concept...\" &nbsp; => &nbsp; Google it first.\n",
    "* \"Has anyone already done this?\" &nbsp; => &nbsp; Google for something similar. Copy it (but ***respect the license!***). Modify to make it work for you.\n",
    "* \"Let me try a prototype to understand the problem better.\" &nbsp; => &nbsp; It's OK to take a stab; you'll probably rewrite it anyway.\n",
    "* \"What's that function `foo()` again?\" &nbsp; => &nbsp; Google, or use Python's `help()` or `?` system\n",
    "* \"I should really talk to someone...\" &nbsp; => &nbsp; When you get stuck, it's OK to discuss problems.\n",
    "\n",
    "Knowing how to discover information is a key part in being effective in programming problems in research."
   ]
  },
  {
   "cell_type": "markdown",
   "metadata": {
    "slideshow": {
     "slide_type": "slide"
    }
   },
   "source": [
    "## How to approach problems\n",
    "\n",
    "1. Make sure you understand the problem (i.e., ask questions if something's not clear).\n",
    "2. Use search engines, documentation, books to learn what you need to develop a solution\n",
    "3. Develop a solution\n",
    "\n",
    "... and do the above _iteratively_ (i.e., there may be a first prototype, followed by by more questions/understanding of what needs to be done, followed by more learning, followed by the next prototype, etc.)"
   ]
  },
  {
   "cell_type": "markdown",
   "metadata": {
    "slideshow": {
     "slide_type": "slide"
    },
    "variables": {
     " execute_and_show('./prog1.py') ": "<pre><code class=\"cm-s-ipython language-bash\">    $./prog1.py\n    Hello world!</code></pre>\n"
    }
   },
   "source": [
    "## Problem 1: Hello World!\n",
    "\n",
    "Write a Python program that one can run on the command line and that results in:\n",
    "{{ execute_and_show('./prog1.py') }}"
   ]
  },
  {
   "cell_type": "markdown",
   "metadata": {
    "slideshow": {
     "slide_type": "subslide"
    }
   },
   "source": [
    "## Implementation"
   ]
  },
  {
   "cell_type": "code",
   "execution_count": null,
   "metadata": {},
   "outputs": [],
   "source": [
    "show_code_listing(\"prog1.py\")"
   ]
  },
  {
   "cell_type": "markdown",
   "metadata": {},
   "source": [
    "Discussion:\n",
    "* We specify the interpreter with the `#!` line.\n",
    "* The file must be marked as executable to run (`chmod +x prog1.py`)\n",
    "* Use the `print()` function to show output."
   ]
  },
  {
   "cell_type": "markdown",
   "metadata": {
    "slideshow": {
     "slide_type": "slide"
    },
    "variables": {
     " execute_and_show('./prog2.py foo bar') ": "<pre><code class=\"cm-s-ipython language-bash\">    $./prog2.py foo bar\n    [&#39;./prog2.py&#39;, &#39;foo&#39;, &#39;bar&#39;]</code></pre>\n"
    }
   },
   "source": [
    "## Problem 2: Print All Arguments\n",
    "\n",
    "Now modify that code to write out the command line arguments, including the name of the program. For example:\n",
    "{{ execute_and_show('./prog2.py foo bar') }}"
   ]
  },
  {
   "cell_type": "markdown",
   "metadata": {
    "slideshow": {
     "slide_type": "subslide"
    }
   },
   "source": [
    "## Implementation"
   ]
  },
  {
   "cell_type": "code",
   "execution_count": null,
   "metadata": {},
   "outputs": [],
   "source": [
    "show_code_listing(\"prog2.py\")"
   ]
  },
  {
   "cell_type": "markdown",
   "metadata": {},
   "source": [
    "Discussion:\n",
    "* The basic Python programming language is fairly small ([only 35, as of Python 3.6](https://docs.python.org/3.10/reference/lexical_analysis.html#keywords)). Most of the functionality available through *modules*; libraries of useful routines that come shipped with the language. The `sys` module contains routines to interact with the system; it's also where `sys.argv` variable is, which contains the list of command-line arguments passed to a program.\n",
    "* When we printed it out, we simply passed `sys.argv` (which is a Python `list`) to `print()`, which automatically converted it to a string. We could've made the output prettier by using the [`str.join`](https://docs.python.org/3/library/stdtypes.html#str.join) method."
   ]
  },
  {
   "cell_type": "markdown",
   "metadata": {
    "slideshow": {
     "slide_type": "slide"
    },
    "variables": {
     " execute_and_show('./prog3.py 2 3') ": "<pre><code class=\"cm-s-ipython language-bash\">    $./prog3.py 2 3\n    5.0</code></pre>\n"
    }
   },
   "source": [
    "## Problem 3: Add Two Numbers\n",
    "\n",
    "Now modify that code to write sum two command line arguments. For example:\n",
    "{{ execute_and_show('./prog3.py 2 3') }}"
   ]
  },
  {
   "cell_type": "markdown",
   "metadata": {
    "slideshow": {
     "slide_type": "subslide"
    }
   },
   "source": [
    "## Implementation"
   ]
  },
  {
   "cell_type": "code",
   "execution_count": null,
   "metadata": {},
   "outputs": [],
   "source": [
    "show_code_listing(\"prog3.py\")"
   ]
  },
  {
   "cell_type": "markdown",
   "metadata": {
    "slideshow": {
     "slide_type": "-"
    }
   },
   "source": [
    "Discussion:\n",
    "* The command line arguments found in `sys.argv` are _strings_ (Python's `str` type). Adding two strings with the `+` operator would just concatenate them; we have to convert them to floating point numbers first using the `float` routine."
   ]
  },
  {
   "cell_type": "markdown",
   "metadata": {
    "slideshow": {
     "slide_type": "slide"
    },
    "variables": {
     " execute_and_show('./prog3.py 2 x') ": "<pre><code class=\"cm-s-ipython language-bash\">    $./prog3.py 2 x\n    Traceback (most recent call last):\n      File &quot;./prog3.py&quot;, line 6, in &lt;module&gt;\n        b = float(sys.argv[2])\n    ValueError: could not convert string to float: &#39;x&#39;</code></pre>\n",
     " execute_and_show('./prog4.py 2 x') ": "<pre><code class=\"cm-s-ipython language-bash\">    $./prog4.py 2 x\n    Error: the second argument must be a number\n\n    Usage: ./prog4.py &lt;arg1&gt; &lt;arg2&gt;</code></pre>\n",
     " execute_and_show('./prog4.py 2') ": "<pre><code class=\"cm-s-ipython language-bash\">    $./prog4.py 2\n    Error: two arguments required.\n\n    Usage: ./prog4.py &lt;arg1&gt; &lt;arg2&gt;</code></pre>\n"
    }
   },
   "source": [
    "## Problem 4: Making the code user friendly\n",
    "\n",
    "When we enter an argument that's not a number:\n",
    "{{ execute_and_show('./prog3.py 2 x') }}\n",
    "It would be nicer to check for the number and type of arguments, and get a user-friendly error message if either are incorrect:\n",
    "{{ execute_and_show('./prog4.py 2 x') }}\n",
    "{{ execute_and_show('./prog4.py 2') }}"
   ]
  },
  {
   "cell_type": "markdown",
   "metadata": {
    "slideshow": {
     "slide_type": "subslide"
    }
   },
   "source": [
    "## Implementation v1"
   ]
  },
  {
   "cell_type": "code",
   "execution_count": null,
   "metadata": {
    "slideshow": {
     "slide_type": "-"
    }
   },
   "outputs": [],
   "source": [
    "show_code_listing(\"prog4.py\")"
   ]
  },
  {
   "cell_type": "markdown",
   "metadata": {},
   "source": [
    "Discussion:\n",
    "* We encounter our first [flow control](https://docs.python.org/3/tutorial/controlflow.html) statement -- `if`. It allows us to choose which path to take based on the result of evaluating a _condition_.\n",
    "* I checked whether there are two arguments by using the `len()` built-in function that returns the length of the list. Note that the `sys.argv` list includes the name of the program; thus testing for `3` instead of `2`.\n",
    "* I used [Python regular expressions](https://docs.python.org/3.4/library/re.html) to check for the format of each string, before attempting to convert them to a floating point number."
   ]
  },
  {
   "cell_type": "markdown",
   "metadata": {
    "slideshow": {
     "slide_type": "slide"
    }
   },
   "source": [
    "### Group Work:\n",
    "\n",
    "My implementation above has lots of repetition (e.g., the same usage string is printed out three times). We know that functions are a way to avoid excessive repetition. Python functions have the following form:\n",
    "\n",
    "```python\n",
    "def func_name(a, b, c, d):\n",
    "    ... function body ...\n",
    "    return some_value\n",
    "```\n",
    "\n",
    "Let's change my implementation so it minimizes repetition by using functions. Identify repetitive parts and [refactor](https://en.wikipedia.org/wiki/Code_refactoring) them into functions."
   ]
  },
  {
   "cell_type": "markdown",
   "metadata": {
    "slideshow": {
     "slide_type": "subslide"
    }
   },
   "source": [
    "## Implementation v2"
   ]
  },
  {
   "cell_type": "code",
   "execution_count": null,
   "metadata": {},
   "outputs": [],
   "source": [
    "show_code_listing(\"prog5.py\")"
   ]
  },
  {
   "cell_type": "markdown",
   "metadata": {},
   "source": [
    "Discussion:\n",
    "* The previous implementatio had a lot of repeating code. That is a tell-tale sign of code that needs to be [refactored](https://en.wikipedia.org/wiki/Code_refactoring) into functions.\n",
    "* Python function definitions begin with `def`, followed by name, the argument list, and then the indented body of the function."
   ]
  },
  {
   "cell_type": "markdown",
   "metadata": {
    "slideshow": {
     "slide_type": "skip"
    }
   },
   "source": [
    "## Reading for Next Time\n",
    "\n",
    "Next time we're going to talk more about Python dicts, list comprehensions, modules and object oriented programming. **Please skim through these in time for the next class** (it should take you ~2-3 hours):\n",
    "\n",
    "* List comprehensions:\n",
    "  * http://www.secnetix.de/olli/Python/list_comprehensions.hawk\n",
    "  * http://www.pythonforbeginners.com/basics/list-comprehensions-in-python\n",
    "  * http://treyhunner.com/2015/12/python-list-comprehensions-now-in-color/\n",
    "  * Learning Python, Chapter 14\n",
    "\n",
    "\n",
    "* Dictionaries:\n",
    "  * https://www.python-course.eu/dictionaries.php\n",
    "  * http://introtopython.org/dictionaries.html\n",
    "  * Learning Python, Chapter 8\n",
    "\n",
    "\n",
    "* Modules:\n",
    "  * https://docs.python.org/3/tutorial/modules.html\n",
    "  * Learning Python, Chapter 22\n",
    "  * Learning Python, Chapter 23 (through \"Module Usage”).\n",
    "\n",
    "\n",
    "* Python Classes/Objects:\n",
    "  * https://jeffknupp.com/blog/2014/06/18/improve-your-python-python-classes-and-object-oriented-programming/ (you can stop at 'Inheritance' for now)\n",
    "  * Learning Python, Chapter 26\n"
   ]
  }
 ],
 "metadata": {
  "celltoolbar": "Slideshow",
  "kernelspec": {
   "display_name": "Python 3",
   "language": "python",
   "name": "python3"
  },
  "language_info": {
   "codemirror_mode": {
    "name": "ipython",
    "version": 3
   },
   "file_extension": ".py",
   "mimetype": "text/x-python",
   "name": "python",
   "nbconvert_exporter": "python",
   "pygments_lexer": "ipython3",
   "version": "3.7.6"
  },
  "livereveal": {
   "scroll": true,
   "start_slideshow_at": "selected"
  }
 },
 "nbformat": 4,
 "nbformat_minor": 4
}
